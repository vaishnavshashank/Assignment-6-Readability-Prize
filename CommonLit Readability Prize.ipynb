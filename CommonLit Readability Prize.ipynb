{
 "cells": [
  {
   "cell_type": "markdown",
   "id": "satisfied-andorra",
   "metadata": {
    "papermill": {
     "duration": 0.043464,
     "end_time": "2021-05-05T04:13:54.573696",
     "exception": false,
     "start_time": "2021-05-05T04:13:54.530232",
     "status": "completed"
    },
    "tags": []
   },
   "source": [
    "## Importing Libraries\n",
    "One can import all the libraries at a time in single cell or can import libraries on the go wherever needed."
   ]
  },
  {
   "cell_type": "code",
   "execution_count": 1,
   "id": "junior-donna",
   "metadata": {
    "execution": {
     "iopub.execute_input": "2021-05-05T04:13:54.667493Z",
     "iopub.status.busy": "2021-05-05T04:13:54.665710Z",
     "iopub.status.idle": "2021-05-05T04:13:56.775718Z",
     "shell.execute_reply": "2021-05-05T04:13:56.776295Z"
    },
    "papermill": {
     "duration": 2.158873,
     "end_time": "2021-05-05T04:13:56.776624",
     "exception": false,
     "start_time": "2021-05-05T04:13:54.617751",
     "status": "completed"
    },
    "tags": []
   },
   "outputs": [],
   "source": [
    "import numpy as np\n",
    "import pandas as pd\n",
    "import re\n",
    "import nltk\n",
    "import spacy"
   ]
  },
  {
   "cell_type": "markdown",
   "id": "favorite-movie",
   "metadata": {
    "papermill": {
     "duration": 0.043946,
     "end_time": "2021-05-05T04:13:56.865452",
     "exception": false,
     "start_time": "2021-05-05T04:13:56.821506",
     "status": "completed"
    },
    "tags": []
   },
   "source": [
    "## Load the dataset"
   ]
  },
  {
   "cell_type": "code",
   "execution_count": 2,
   "id": "promising-prompt",
   "metadata": {
    "execution": {
     "iopub.execute_input": "2021-05-05T04:13:56.960374Z",
     "iopub.status.busy": "2021-05-05T04:13:56.959390Z",
     "iopub.status.idle": "2021-05-05T04:13:57.074921Z",
     "shell.execute_reply": "2021-05-05T04:13:57.075486Z"
    },
    "papermill": {
     "duration": 0.165484,
     "end_time": "2021-05-05T04:13:57.075678",
     "exception": false,
     "start_time": "2021-05-05T04:13:56.910194",
     "status": "completed"
    },
    "tags": []
   },
   "outputs": [],
   "source": [
    "train_data = pd.read_csv('../input/commonlitreadabilityprize/train.csv')\n",
    "test_data = pd.read_csv('../input/commonlitreadabilityprize/test.csv')"
   ]
  },
  {
   "cell_type": "code",
   "execution_count": 3,
   "id": "congressional-perception",
   "metadata": {
    "execution": {
     "iopub.execute_input": "2021-05-05T04:13:57.171791Z",
     "iopub.status.busy": "2021-05-05T04:13:57.170806Z",
     "iopub.status.idle": "2021-05-05T04:13:57.201198Z",
     "shell.execute_reply": "2021-05-05T04:13:57.201738Z"
    },
    "papermill": {
     "duration": 0.080906,
     "end_time": "2021-05-05T04:13:57.201905",
     "exception": false,
     "start_time": "2021-05-05T04:13:57.120999",
     "status": "completed"
    },
    "tags": []
   },
   "outputs": [
    {
     "data": {
      "text/html": [
       "<div>\n",
       "<style scoped>\n",
       "    .dataframe tbody tr th:only-of-type {\n",
       "        vertical-align: middle;\n",
       "    }\n",
       "\n",
       "    .dataframe tbody tr th {\n",
       "        vertical-align: top;\n",
       "    }\n",
       "\n",
       "    .dataframe thead th {\n",
       "        text-align: right;\n",
       "    }\n",
       "</style>\n",
       "<table border=\"1\" class=\"dataframe\">\n",
       "  <thead>\n",
       "    <tr style=\"text-align: right;\">\n",
       "      <th></th>\n",
       "      <th>id</th>\n",
       "      <th>url_legal</th>\n",
       "      <th>license</th>\n",
       "      <th>excerpt</th>\n",
       "      <th>target</th>\n",
       "      <th>standard_error</th>\n",
       "    </tr>\n",
       "  </thead>\n",
       "  <tbody>\n",
       "    <tr>\n",
       "      <th>0</th>\n",
       "      <td>c12129c31</td>\n",
       "      <td>NaN</td>\n",
       "      <td>NaN</td>\n",
       "      <td>When the young people returned to the ballroom...</td>\n",
       "      <td>-0.340259</td>\n",
       "      <td>0.464009</td>\n",
       "    </tr>\n",
       "    <tr>\n",
       "      <th>1</th>\n",
       "      <td>85aa80a4c</td>\n",
       "      <td>NaN</td>\n",
       "      <td>NaN</td>\n",
       "      <td>All through dinner time, Mrs. Fayre was somewh...</td>\n",
       "      <td>-0.315372</td>\n",
       "      <td>0.480805</td>\n",
       "    </tr>\n",
       "    <tr>\n",
       "      <th>2</th>\n",
       "      <td>b69ac6792</td>\n",
       "      <td>NaN</td>\n",
       "      <td>NaN</td>\n",
       "      <td>As Roger had predicted, the snow departed as q...</td>\n",
       "      <td>-0.580118</td>\n",
       "      <td>0.476676</td>\n",
       "    </tr>\n",
       "    <tr>\n",
       "      <th>3</th>\n",
       "      <td>dd1000b26</td>\n",
       "      <td>NaN</td>\n",
       "      <td>NaN</td>\n",
       "      <td>And outside before the palace a great garden w...</td>\n",
       "      <td>-1.054013</td>\n",
       "      <td>0.450007</td>\n",
       "    </tr>\n",
       "    <tr>\n",
       "      <th>4</th>\n",
       "      <td>37c1b32fb</td>\n",
       "      <td>NaN</td>\n",
       "      <td>NaN</td>\n",
       "      <td>Once upon a time there were Three Bears who li...</td>\n",
       "      <td>0.247197</td>\n",
       "      <td>0.510845</td>\n",
       "    </tr>\n",
       "  </tbody>\n",
       "</table>\n",
       "</div>"
      ],
      "text/plain": [
       "          id url_legal license  \\\n",
       "0  c12129c31       NaN     NaN   \n",
       "1  85aa80a4c       NaN     NaN   \n",
       "2  b69ac6792       NaN     NaN   \n",
       "3  dd1000b26       NaN     NaN   \n",
       "4  37c1b32fb       NaN     NaN   \n",
       "\n",
       "                                             excerpt    target  standard_error  \n",
       "0  When the young people returned to the ballroom... -0.340259        0.464009  \n",
       "1  All through dinner time, Mrs. Fayre was somewh... -0.315372        0.480805  \n",
       "2  As Roger had predicted, the snow departed as q... -0.580118        0.476676  \n",
       "3  And outside before the palace a great garden w... -1.054013        0.450007  \n",
       "4  Once upon a time there were Three Bears who li...  0.247197        0.510845  "
      ]
     },
     "execution_count": 3,
     "metadata": {},
     "output_type": "execute_result"
    }
   ],
   "source": [
    "train_data.head()"
   ]
  },
  {
   "cell_type": "code",
   "execution_count": 4,
   "id": "statewide-israel",
   "metadata": {
    "execution": {
     "iopub.execute_input": "2021-05-05T04:13:57.296263Z",
     "iopub.status.busy": "2021-05-05T04:13:57.295276Z",
     "iopub.status.idle": "2021-05-05T04:13:57.307529Z",
     "shell.execute_reply": "2021-05-05T04:13:57.308046Z"
    },
    "papermill": {
     "duration": 0.060853,
     "end_time": "2021-05-05T04:13:57.308240",
     "exception": false,
     "start_time": "2021-05-05T04:13:57.247387",
     "status": "completed"
    },
    "tags": []
   },
   "outputs": [
    {
     "data": {
      "text/html": [
       "<div>\n",
       "<style scoped>\n",
       "    .dataframe tbody tr th:only-of-type {\n",
       "        vertical-align: middle;\n",
       "    }\n",
       "\n",
       "    .dataframe tbody tr th {\n",
       "        vertical-align: top;\n",
       "    }\n",
       "\n",
       "    .dataframe thead th {\n",
       "        text-align: right;\n",
       "    }\n",
       "</style>\n",
       "<table border=\"1\" class=\"dataframe\">\n",
       "  <thead>\n",
       "    <tr style=\"text-align: right;\">\n",
       "      <th></th>\n",
       "      <th>id</th>\n",
       "      <th>url_legal</th>\n",
       "      <th>license</th>\n",
       "      <th>excerpt</th>\n",
       "    </tr>\n",
       "  </thead>\n",
       "  <tbody>\n",
       "    <tr>\n",
       "      <th>0</th>\n",
       "      <td>c0f722661</td>\n",
       "      <td>NaN</td>\n",
       "      <td>NaN</td>\n",
       "      <td>My hope lay in Jack's promise that he would ke...</td>\n",
       "    </tr>\n",
       "    <tr>\n",
       "      <th>1</th>\n",
       "      <td>f0953f0a5</td>\n",
       "      <td>NaN</td>\n",
       "      <td>NaN</td>\n",
       "      <td>Dotty continued to go to Mrs. Gray's every nig...</td>\n",
       "    </tr>\n",
       "    <tr>\n",
       "      <th>2</th>\n",
       "      <td>0df072751</td>\n",
       "      <td>NaN</td>\n",
       "      <td>NaN</td>\n",
       "      <td>It was a bright and cheerful scene that greete...</td>\n",
       "    </tr>\n",
       "    <tr>\n",
       "      <th>3</th>\n",
       "      <td>04caf4e0c</td>\n",
       "      <td>https://en.wikipedia.org/wiki/Cell_division</td>\n",
       "      <td>CC BY-SA 3.0</td>\n",
       "      <td>Cell division is the process by which a parent...</td>\n",
       "    </tr>\n",
       "    <tr>\n",
       "      <th>4</th>\n",
       "      <td>0e63f8bea</td>\n",
       "      <td>https://en.wikipedia.org/wiki/Debugging</td>\n",
       "      <td>CC BY-SA 3.0</td>\n",
       "      <td>Debugging is the process of finding and resolv...</td>\n",
       "    </tr>\n",
       "  </tbody>\n",
       "</table>\n",
       "</div>"
      ],
      "text/plain": [
       "          id                                    url_legal       license  \\\n",
       "0  c0f722661                                          NaN           NaN   \n",
       "1  f0953f0a5                                          NaN           NaN   \n",
       "2  0df072751                                          NaN           NaN   \n",
       "3  04caf4e0c  https://en.wikipedia.org/wiki/Cell_division  CC BY-SA 3.0   \n",
       "4  0e63f8bea      https://en.wikipedia.org/wiki/Debugging  CC BY-SA 3.0   \n",
       "\n",
       "                                             excerpt  \n",
       "0  My hope lay in Jack's promise that he would ke...  \n",
       "1  Dotty continued to go to Mrs. Gray's every nig...  \n",
       "2  It was a bright and cheerful scene that greete...  \n",
       "3  Cell division is the process by which a parent...  \n",
       "4  Debugging is the process of finding and resolv...  "
      ]
     },
     "execution_count": 4,
     "metadata": {},
     "output_type": "execute_result"
    }
   ],
   "source": [
    "test_data.head()"
   ]
  },
  {
   "cell_type": "code",
   "execution_count": 5,
   "id": "fleet-length",
   "metadata": {
    "execution": {
     "iopub.execute_input": "2021-05-05T04:13:57.404095Z",
     "iopub.status.busy": "2021-05-05T04:13:57.403156Z",
     "iopub.status.idle": "2021-05-05T04:13:57.410944Z",
     "shell.execute_reply": "2021-05-05T04:13:57.411446Z"
    },
    "papermill": {
     "duration": 0.057354,
     "end_time": "2021-05-05T04:13:57.411630",
     "exception": false,
     "start_time": "2021-05-05T04:13:57.354276",
     "status": "completed"
    },
    "tags": []
   },
   "outputs": [],
   "source": [
    "train_data = train_data[['excerpt']]\n",
    "test_data = test_data[['excerpt']]"
   ]
  },
  {
   "cell_type": "markdown",
   "id": "wooden-memphis",
   "metadata": {
    "papermill": {
     "duration": 0.045646,
     "end_time": "2021-05-05T04:13:57.503366",
     "exception": false,
     "start_time": "2021-05-05T04:13:57.457720",
     "status": "completed"
    },
    "tags": []
   },
   "source": [
    "### Lower Casing\n",
    "This is one of the basic pre-processing step. This is an important steps to perform as it helps you to convert all the strings into same casing format so that the texts like Lower, lower, and LOWER are considered same. This helps you to reduce the duplication of same word which might be counted as unique words."
   ]
  },
  {
   "cell_type": "code",
   "execution_count": 6,
   "id": "cordless-investing",
   "metadata": {
    "execution": {
     "iopub.execute_input": "2021-05-05T04:13:57.599923Z",
     "iopub.status.busy": "2021-05-05T04:13:57.598913Z",
     "iopub.status.idle": "2021-05-05T04:13:57.614544Z",
     "shell.execute_reply": "2021-05-05T04:13:57.615037Z"
    },
    "papermill": {
     "duration": 0.065009,
     "end_time": "2021-05-05T04:13:57.615241",
     "exception": false,
     "start_time": "2021-05-05T04:13:57.550232",
     "status": "completed"
    },
    "tags": []
   },
   "outputs": [],
   "source": [
    "train_data['excerpt_lower'] = train_data['excerpt'].str.lower()   # First we need to convert the given texts to string and then apply case conversion methods\n",
    "test_data['excerpt_lower'] = test_data['excerpt'].str.lower()"
   ]
  },
  {
   "cell_type": "code",
   "execution_count": 7,
   "id": "durable-cancellation",
   "metadata": {
    "execution": {
     "iopub.execute_input": "2021-05-05T04:13:57.717789Z",
     "iopub.status.busy": "2021-05-05T04:13:57.716778Z",
     "iopub.status.idle": "2021-05-05T04:13:57.720842Z",
     "shell.execute_reply": "2021-05-05T04:13:57.721333Z"
    },
    "papermill": {
     "duration": 0.06017,
     "end_time": "2021-05-05T04:13:57.721521",
     "exception": false,
     "start_time": "2021-05-05T04:13:57.661351",
     "status": "completed"
    },
    "tags": []
   },
   "outputs": [
    {
     "data": {
      "text/html": [
       "<div>\n",
       "<style scoped>\n",
       "    .dataframe tbody tr th:only-of-type {\n",
       "        vertical-align: middle;\n",
       "    }\n",
       "\n",
       "    .dataframe tbody tr th {\n",
       "        vertical-align: top;\n",
       "    }\n",
       "\n",
       "    .dataframe thead th {\n",
       "        text-align: right;\n",
       "    }\n",
       "</style>\n",
       "<table border=\"1\" class=\"dataframe\">\n",
       "  <thead>\n",
       "    <tr style=\"text-align: right;\">\n",
       "      <th></th>\n",
       "      <th>excerpt</th>\n",
       "      <th>excerpt_lower</th>\n",
       "    </tr>\n",
       "  </thead>\n",
       "  <tbody>\n",
       "    <tr>\n",
       "      <th>0</th>\n",
       "      <td>When the young people returned to the ballroom...</td>\n",
       "      <td>when the young people returned to the ballroom...</td>\n",
       "    </tr>\n",
       "    <tr>\n",
       "      <th>1</th>\n",
       "      <td>All through dinner time, Mrs. Fayre was somewh...</td>\n",
       "      <td>all through dinner time, mrs. fayre was somewh...</td>\n",
       "    </tr>\n",
       "    <tr>\n",
       "      <th>2</th>\n",
       "      <td>As Roger had predicted, the snow departed as q...</td>\n",
       "      <td>as roger had predicted, the snow departed as q...</td>\n",
       "    </tr>\n",
       "    <tr>\n",
       "      <th>3</th>\n",
       "      <td>And outside before the palace a great garden w...</td>\n",
       "      <td>and outside before the palace a great garden w...</td>\n",
       "    </tr>\n",
       "    <tr>\n",
       "      <th>4</th>\n",
       "      <td>Once upon a time there were Three Bears who li...</td>\n",
       "      <td>once upon a time there were three bears who li...</td>\n",
       "    </tr>\n",
       "  </tbody>\n",
       "</table>\n",
       "</div>"
      ],
      "text/plain": [
       "                                             excerpt  \\\n",
       "0  When the young people returned to the ballroom...   \n",
       "1  All through dinner time, Mrs. Fayre was somewh...   \n",
       "2  As Roger had predicted, the snow departed as q...   \n",
       "3  And outside before the palace a great garden w...   \n",
       "4  Once upon a time there were Three Bears who li...   \n",
       "\n",
       "                                       excerpt_lower  \n",
       "0  when the young people returned to the ballroom...  \n",
       "1  all through dinner time, mrs. fayre was somewh...  \n",
       "2  as roger had predicted, the snow departed as q...  \n",
       "3  and outside before the palace a great garden w...  \n",
       "4  once upon a time there were three bears who li...  "
      ]
     },
     "execution_count": 7,
     "metadata": {},
     "output_type": "execute_result"
    }
   ],
   "source": [
    "train_data.head()"
   ]
  },
  {
   "cell_type": "code",
   "execution_count": 8,
   "id": "great-laundry",
   "metadata": {
    "execution": {
     "iopub.execute_input": "2021-05-05T04:13:57.818296Z",
     "iopub.status.busy": "2021-05-05T04:13:57.817615Z",
     "iopub.status.idle": "2021-05-05T04:13:57.827547Z",
     "shell.execute_reply": "2021-05-05T04:13:57.826947Z"
    },
    "papermill": {
     "duration": 0.059227,
     "end_time": "2021-05-05T04:13:57.827726",
     "exception": false,
     "start_time": "2021-05-05T04:13:57.768499",
     "status": "completed"
    },
    "tags": []
   },
   "outputs": [
    {
     "data": {
      "text/html": [
       "<div>\n",
       "<style scoped>\n",
       "    .dataframe tbody tr th:only-of-type {\n",
       "        vertical-align: middle;\n",
       "    }\n",
       "\n",
       "    .dataframe tbody tr th {\n",
       "        vertical-align: top;\n",
       "    }\n",
       "\n",
       "    .dataframe thead th {\n",
       "        text-align: right;\n",
       "    }\n",
       "</style>\n",
       "<table border=\"1\" class=\"dataframe\">\n",
       "  <thead>\n",
       "    <tr style=\"text-align: right;\">\n",
       "      <th></th>\n",
       "      <th>excerpt</th>\n",
       "      <th>excerpt_lower</th>\n",
       "    </tr>\n",
       "  </thead>\n",
       "  <tbody>\n",
       "    <tr>\n",
       "      <th>0</th>\n",
       "      <td>My hope lay in Jack's promise that he would ke...</td>\n",
       "      <td>my hope lay in jack's promise that he would ke...</td>\n",
       "    </tr>\n",
       "    <tr>\n",
       "      <th>1</th>\n",
       "      <td>Dotty continued to go to Mrs. Gray's every nig...</td>\n",
       "      <td>dotty continued to go to mrs. gray's every nig...</td>\n",
       "    </tr>\n",
       "    <tr>\n",
       "      <th>2</th>\n",
       "      <td>It was a bright and cheerful scene that greete...</td>\n",
       "      <td>it was a bright and cheerful scene that greete...</td>\n",
       "    </tr>\n",
       "    <tr>\n",
       "      <th>3</th>\n",
       "      <td>Cell division is the process by which a parent...</td>\n",
       "      <td>cell division is the process by which a parent...</td>\n",
       "    </tr>\n",
       "    <tr>\n",
       "      <th>4</th>\n",
       "      <td>Debugging is the process of finding and resolv...</td>\n",
       "      <td>debugging is the process of finding and resolv...</td>\n",
       "    </tr>\n",
       "  </tbody>\n",
       "</table>\n",
       "</div>"
      ],
      "text/plain": [
       "                                             excerpt  \\\n",
       "0  My hope lay in Jack's promise that he would ke...   \n",
       "1  Dotty continued to go to Mrs. Gray's every nig...   \n",
       "2  It was a bright and cheerful scene that greete...   \n",
       "3  Cell division is the process by which a parent...   \n",
       "4  Debugging is the process of finding and resolv...   \n",
       "\n",
       "                                       excerpt_lower  \n",
       "0  my hope lay in jack's promise that he would ke...  \n",
       "1  dotty continued to go to mrs. gray's every nig...  \n",
       "2  it was a bright and cheerful scene that greete...  \n",
       "3  cell division is the process by which a parent...  \n",
       "4  debugging is the process of finding and resolv...  "
      ]
     },
     "execution_count": 8,
     "metadata": {},
     "output_type": "execute_result"
    }
   ],
   "source": [
    "test_data.head()"
   ]
  },
  {
   "cell_type": "markdown",
   "id": "otherwise-government",
   "metadata": {
    "papermill": {
     "duration": 0.046671,
     "end_time": "2021-05-05T04:13:57.921468",
     "exception": false,
     "start_time": "2021-05-05T04:13:57.874797",
     "status": "completed"
    },
    "tags": []
   },
   "source": [
    "### Removal of HTML tags & noise\n",
    "This processing steps becomes handy when you are dealing with the scraped data from different websites."
   ]
  },
  {
   "cell_type": "code",
   "execution_count": 9,
   "id": "ordinary-calendar",
   "metadata": {
    "execution": {
     "iopub.execute_input": "2021-05-05T04:13:58.021979Z",
     "iopub.status.busy": "2021-05-05T04:13:58.021306Z",
     "iopub.status.idle": "2021-05-05T04:13:58.666130Z",
     "shell.execute_reply": "2021-05-05T04:13:58.665494Z"
    },
    "papermill": {
     "duration": 0.69721,
     "end_time": "2021-05-05T04:13:58.666270",
     "exception": false,
     "start_time": "2021-05-05T04:13:57.969060",
     "status": "completed"
    },
    "tags": []
   },
   "outputs": [
    {
     "name": "stdout",
     "output_type": "stream",
     "text": [
      " * Default rule centered and clear of floats; sized for thought-breaks\r\n",
      " * ********************************************************************** */\r\n",
      "\thr {\r\n",
      "\t\twidth:45%;\t\t\t/* adjust to ape original work */\r\n",
      "\t\tmargin-top: 1em;\t/* space above &amp;amp; below */\r\n",
      "\t\tmargin-bottom: 1em;\r\n",
      "\t\tmargin-left: auto;  /* these two ensure a.. */\r\n",
      "\t\tmargin-right: auto; /* ..centered rule */\r\n",
      "\t\tclear: both;\t\t/* don't let sidebars &amp;amp; floats overlap rule */\r\n",
      "\t}\r\n",
      "/* ************************************************************************\r\n",
      " * Images and captions\r\n",
      " * ********************************************************************** */\r\n",
      "\timg { /* the default inline image has */\r\n",
      "\t\tborder: 1px solid black; /* a thin black line border.. */\r\n",
      "\t\tpadding: 6px; /* ..spaced a bit out from the graphic */\r\n",
      "\t\t} </style><link rel=\"schema.DCTERMS\" href=\"http://purl.org/dc/terms/\"/>\r\n",
      "<link rel=\"schema.MARCREL\" href=\"http://id.loc.gov/vocabulary/relators/\"/>\r\n",
      "<meta name=\"DCTERMS.title\" content=\"The Bible, King James version, Book 1: Genesis\"/>\r\n",
      "<meta name=\"DCTERMS.source\" content=\"https://www.gutenberg.org/files/8001/8001.txt\"/>\r\n",
      "<meta name=\"DCTERMS.language\" content=\"en\" scheme=\"DCTERMS.RFC4646\"/>\r\n",
      "<meta name\n"
     ]
    }
   ],
   "source": [
    "import requests\n",
    "\n",
    "data = requests.get('http://www.gutenberg.org/cache/epub/8001/pg8001.html')\n",
    "content = data.text\n",
    "print(content[2745:3948])"
   ]
  },
  {
   "cell_type": "code",
   "execution_count": 10,
   "id": "intense-folks",
   "metadata": {
    "execution": {
     "iopub.execute_input": "2021-05-05T04:13:58.777450Z",
     "iopub.status.busy": "2021-05-05T04:13:58.765522Z",
     "iopub.status.idle": "2021-05-05T04:14:09.640649Z",
     "shell.execute_reply": "2021-05-05T04:14:09.639843Z"
    },
    "papermill": {
     "duration": 10.927029,
     "end_time": "2021-05-05T04:14:09.640801",
     "exception": false,
     "start_time": "2021-05-05T04:13:58.713772",
     "status": "completed"
    },
    "tags": []
   },
   "outputs": [
    {
     "name": "stdout",
     "output_type": "stream",
     "text": [
      "Collecting bs4\r\n",
      "  Downloading bs4-0.0.1.tar.gz (1.1 kB)\r\n",
      "Collecting beautifulsoup4\r\n",
      "  Downloading beautifulsoup4-4.9.3-py3-none-any.whl (115 kB)\r\n",
      "\u001b[K     |████████████████████████████████| 115 kB 1.2 MB/s \r\n",
      "\u001b[?25hCollecting soupsieve>1.2\r\n",
      "  Downloading soupsieve-2.2.1-py3-none-any.whl (33 kB)\r\n",
      "Building wheels for collected packages: bs4\r\n",
      "  Building wheel for bs4 (setup.py) ... \u001b[?25l-\b \b\\\b \bdone\r\n",
      "\u001b[?25h  Created wheel for bs4: filename=bs4-0.0.1-py3-none-any.whl size=1273 sha256=8763161601e745dbec1ac6045aa2b15006c56bb9137fa9a1536538c84d1a2ca6\r\n",
      "  Stored in directory: /root/.cache/pip/wheels/0a/9e/ba/20e5bbc1afef3a491f0b3bb74d508f99403aabe76eda2167ca\r\n",
      "Successfully built bs4\r\n",
      "Installing collected packages: soupsieve, beautifulsoup4, bs4\r\n",
      "Successfully installed beautifulsoup4-4.9.3 bs4-0.0.1 soupsieve-2.2.1\r\n"
     ]
    }
   ],
   "source": [
    "!pip install bs4"
   ]
  },
  {
   "cell_type": "code",
   "execution_count": 11,
   "id": "civil-cinema",
   "metadata": {
    "execution": {
     "iopub.execute_input": "2021-05-05T04:14:09.753431Z",
     "iopub.status.busy": "2021-05-05T04:14:09.752441Z",
     "iopub.status.idle": "2021-05-05T04:14:10.151355Z",
     "shell.execute_reply": "2021-05-05T04:14:10.150664Z"
    },
    "papermill": {
     "duration": 0.458464,
     "end_time": "2021-05-05T04:14:10.151509",
     "exception": false,
     "start_time": "2021-05-05T04:14:09.693045",
     "status": "completed"
    },
    "tags": []
   },
   "outputs": [
    {
     "name": "stdout",
     "output_type": "stream",
     "text": [
      "*** START OF THE PROJECT GUTENBERG EBOOK, THE BIBLE, KING JAMES, BOOK 1***\n",
      "This eBook was produced by David Widger\n",
      "with the help of Derek Andrew's text from January 1992\n",
      "and the work of Bryan Taylor in November 2002.\n",
      "Book 01        Genesis\n",
      "01:001:001 In the beginning God created the heaven and the earth.\n",
      "01:001:002 And the earth was without form, and void; and darkness was\n",
      "           upon the face of the deep. And the Spirit of God moved upon\n",
      "           the face of the waters.\n",
      "01:001:003 And God said, Let there be light: and there was light.\n",
      "01:001:004 And God saw the light, that it was good: and God divided the\n",
      "           light from the darkness.\n",
      "01:001:005 And God called the light Day, and the darkness he called\n",
      "           Night. And the evening and the morning were the first day.\n",
      "\n"
     ]
    }
   ],
   "source": [
    "import re\n",
    "from bs4 import BeautifulSoup\n",
    "\n",
    "def strip_html_tags(text):\n",
    "    \"\"\"\n",
    "    This function will remove the HTML tags & noise from the scraped data.\n",
    "    \"\"\"\n",
    "    soup = BeautifulSoup(text, \"html.parser\")\n",
    "    [s.extract() for s in soup(['iframe', 'script'])]\n",
    "    stripped_text = soup.get_text()\n",
    "    stripped_text = re.sub(r'[\\r|\\n|\\r\\n]+', '\\n', stripped_text)\n",
    "    return stripped_text\n",
    "\n",
    "clean_content = strip_html_tags(content)\n",
    "print(clean_content[1163:1957])"
   ]
  },
  {
   "cell_type": "markdown",
   "id": "collectible-approval",
   "metadata": {
    "papermill": {
     "duration": 0.052328,
     "end_time": "2021-05-05T04:14:10.256406",
     "exception": false,
     "start_time": "2021-05-05T04:14:10.204078",
     "status": "completed"
    },
    "tags": []
   },
   "source": [
    "You can observe in the texts above that all the tags like **br** or **img** are removed from the texts."
   ]
  },
  {
   "cell_type": "code",
   "execution_count": 12,
   "id": "conceptual-ethnic",
   "metadata": {
    "execution": {
     "iopub.execute_input": "2021-05-05T04:14:10.405260Z",
     "iopub.status.busy": "2021-05-05T04:14:10.394985Z",
     "iopub.status.idle": "2021-05-05T04:14:10.741485Z",
     "shell.execute_reply": "2021-05-05T04:14:10.740929Z"
    },
    "papermill": {
     "duration": 0.432184,
     "end_time": "2021-05-05T04:14:10.741633",
     "exception": false,
     "start_time": "2021-05-05T04:14:10.309449",
     "status": "completed"
    },
    "tags": []
   },
   "outputs": [],
   "source": [
    "train_data['excerpt_lower'] = train_data['excerpt_lower'].apply(strip_html_tags)\n",
    "test_data['excerpt_lower'] = test_data['excerpt_lower'].apply(strip_html_tags)"
   ]
  },
  {
   "cell_type": "markdown",
   "id": "strange-transmission",
   "metadata": {
    "papermill": {
     "duration": 0.052152,
     "end_time": "2021-05-05T04:14:10.846414",
     "exception": false,
     "start_time": "2021-05-05T04:14:10.794262",
     "status": "completed"
    },
    "tags": []
   },
   "source": [
    "### Removing Accented Characters\n",
    "Sometimes we may find some accented characters present in the texts we are dealing with. \n",
    "\n",
    "Accented characters look like: 'Sómě Áccěntěd těxt'"
   ]
  },
  {
   "cell_type": "code",
   "execution_count": 13,
   "id": "intellectual-airport",
   "metadata": {
    "execution": {
     "iopub.execute_input": "2021-05-05T04:14:10.957048Z",
     "iopub.status.busy": "2021-05-05T04:14:10.956406Z",
     "iopub.status.idle": "2021-05-05T04:14:10.958445Z",
     "shell.execute_reply": "2021-05-05T04:14:10.958902Z"
    },
    "papermill": {
     "duration": 0.060091,
     "end_time": "2021-05-05T04:14:10.959088",
     "exception": false,
     "start_time": "2021-05-05T04:14:10.898997",
     "status": "completed"
    },
    "tags": []
   },
   "outputs": [],
   "source": [
    "import unicodedata\n",
    "\n",
    "def remove_accented_chars(text):\n",
    "    text = unicodedata.normalize('NFKD', text).encode('ascii', 'ignore').decode('utf-8', 'ignore')\n",
    "    return text"
   ]
  },
  {
   "cell_type": "code",
   "execution_count": 14,
   "id": "public-karma",
   "metadata": {
    "execution": {
     "iopub.execute_input": "2021-05-05T04:14:11.068156Z",
     "iopub.status.busy": "2021-05-05T04:14:11.067524Z",
     "iopub.status.idle": "2021-05-05T04:14:11.072182Z",
     "shell.execute_reply": "2021-05-05T04:14:11.072762Z"
    },
    "papermill": {
     "duration": 0.060953,
     "end_time": "2021-05-05T04:14:11.072933",
     "exception": false,
     "start_time": "2021-05-05T04:14:11.011980",
     "status": "completed"
    },
    "tags": []
   },
   "outputs": [
    {
     "data": {
      "text/plain": [
       "'Sómě Áccěntěd těxt'"
      ]
     },
     "execution_count": 14,
     "metadata": {},
     "output_type": "execute_result"
    }
   ],
   "source": [
    "s = 'Sómě Áccěntěd těxt'\n",
    "s"
   ]
  },
  {
   "cell_type": "code",
   "execution_count": 15,
   "id": "dress-orientation",
   "metadata": {
    "execution": {
     "iopub.execute_input": "2021-05-05T04:14:11.183440Z",
     "iopub.status.busy": "2021-05-05T04:14:11.182749Z",
     "iopub.status.idle": "2021-05-05T04:14:11.188595Z",
     "shell.execute_reply": "2021-05-05T04:14:11.187996Z"
    },
    "papermill": {
     "duration": 0.062466,
     "end_time": "2021-05-05T04:14:11.188746",
     "exception": false,
     "start_time": "2021-05-05T04:14:11.126280",
     "status": "completed"
    },
    "tags": []
   },
   "outputs": [
    {
     "data": {
      "text/plain": [
       "'Some Accented text'"
      ]
     },
     "execution_count": 15,
     "metadata": {},
     "output_type": "execute_result"
    }
   ],
   "source": [
    "remove_accented_chars(s)"
   ]
  },
  {
   "cell_type": "code",
   "execution_count": 16,
   "id": "posted-start",
   "metadata": {
    "execution": {
     "iopub.execute_input": "2021-05-05T04:14:11.315451Z",
     "iopub.status.busy": "2021-05-05T04:14:11.310818Z",
     "iopub.status.idle": "2021-05-05T04:14:11.318012Z",
     "shell.execute_reply": "2021-05-05T04:14:11.318499Z"
    },
    "papermill": {
     "duration": 0.076281,
     "end_time": "2021-05-05T04:14:11.318678",
     "exception": false,
     "start_time": "2021-05-05T04:14:11.242397",
     "status": "completed"
    },
    "tags": []
   },
   "outputs": [],
   "source": [
    "train_data['excerpt_lower'] = train_data['excerpt_lower'].apply(remove_accented_chars)\n",
    "test_data['excerpt_lower'] = test_data['excerpt_lower'].apply(remove_accented_chars)"
   ]
  },
  {
   "cell_type": "markdown",
   "id": "human-candidate",
   "metadata": {
    "papermill": {
     "duration": 0.052785,
     "end_time": "2021-05-05T04:14:11.424937",
     "exception": false,
     "start_time": "2021-05-05T04:14:11.372152",
     "status": "completed"
    },
    "tags": []
   },
   "source": [
    "### Removing Special Characters, Numbers & Symbols\n"
   ]
  },
  {
   "cell_type": "code",
   "execution_count": 17,
   "id": "invisible-interval",
   "metadata": {
    "execution": {
     "iopub.execute_input": "2021-05-05T04:14:11.537409Z",
     "iopub.status.busy": "2021-05-05T04:14:11.536680Z",
     "iopub.status.idle": "2021-05-05T04:14:11.539882Z",
     "shell.execute_reply": "2021-05-05T04:14:11.539329Z"
    },
    "papermill": {
     "duration": 0.061556,
     "end_time": "2021-05-05T04:14:11.540027",
     "exception": false,
     "start_time": "2021-05-05T04:14:11.478471",
     "status": "completed"
    },
    "tags": []
   },
   "outputs": [],
   "source": [
    "import re\n",
    "\n",
    "def remove_special_characters(text, remove_digits=True):\n",
    "    pattern = r'[^a-zA-Z0-9\\s]' if not remove_digits else r'[^a-zA-Z\\s]'\n",
    "    text = re.sub(pattern, '', text)\n",
    "    return text"
   ]
  },
  {
   "cell_type": "code",
   "execution_count": 18,
   "id": "fantastic-salvation",
   "metadata": {
    "execution": {
     "iopub.execute_input": "2021-05-05T04:14:11.652590Z",
     "iopub.status.busy": "2021-05-05T04:14:11.651721Z",
     "iopub.status.idle": "2021-05-05T04:14:11.655632Z",
     "shell.execute_reply": "2021-05-05T04:14:11.655002Z"
    },
    "papermill": {
     "duration": 0.061979,
     "end_time": "2021-05-05T04:14:11.655764",
     "exception": false,
     "start_time": "2021-05-05T04:14:11.593785",
     "status": "completed"
    },
    "tags": []
   },
   "outputs": [
    {
     "data": {
      "text/plain": [
       "'Well this was fun! See you at 7:30, What do you think!!? #$@@9318@ 🙂🙂🙂'"
      ]
     },
     "execution_count": 18,
     "metadata": {},
     "output_type": "execute_result"
    }
   ],
   "source": [
    "s = \"Well this was fun! See you at 7:30, What do you think!!? #$@@9318@ 🙂🙂🙂\"\n",
    "s"
   ]
  },
  {
   "cell_type": "code",
   "execution_count": 19,
   "id": "experienced-preparation",
   "metadata": {
    "execution": {
     "iopub.execute_input": "2021-05-05T04:14:11.770218Z",
     "iopub.status.busy": "2021-05-05T04:14:11.769422Z",
     "iopub.status.idle": "2021-05-05T04:14:11.773572Z",
     "shell.execute_reply": "2021-05-05T04:14:11.772931Z"
    },
    "papermill": {
     "duration": 0.063609,
     "end_time": "2021-05-05T04:14:11.773707",
     "exception": false,
     "start_time": "2021-05-05T04:14:11.710098",
     "status": "completed"
    },
    "tags": []
   },
   "outputs": [
    {
     "data": {
      "text/plain": [
       "'Well this was fun See you at 730 What do you think 9318 '"
      ]
     },
     "execution_count": 19,
     "metadata": {},
     "output_type": "execute_result"
    }
   ],
   "source": [
    "remove_special_characters(s, remove_digits=False)"
   ]
  },
  {
   "cell_type": "code",
   "execution_count": 20,
   "id": "sought-blogger",
   "metadata": {
    "execution": {
     "iopub.execute_input": "2021-05-05T04:14:11.889467Z",
     "iopub.status.busy": "2021-05-05T04:14:11.888572Z",
     "iopub.status.idle": "2021-05-05T04:14:11.891938Z",
     "shell.execute_reply": "2021-05-05T04:14:11.892562Z"
    },
    "papermill": {
     "duration": 0.064188,
     "end_time": "2021-05-05T04:14:11.892729",
     "exception": false,
     "start_time": "2021-05-05T04:14:11.828541",
     "status": "completed"
    },
    "tags": []
   },
   "outputs": [
    {
     "data": {
      "text/plain": [
       "'Well this was fun See you at  What do you think  '"
      ]
     },
     "execution_count": 20,
     "metadata": {},
     "output_type": "execute_result"
    }
   ],
   "source": [
    "remove_special_characters(s)"
   ]
  },
  {
   "cell_type": "code",
   "execution_count": 21,
   "id": "dutch-viewer",
   "metadata": {
    "execution": {
     "iopub.execute_input": "2021-05-05T04:14:12.006263Z",
     "iopub.status.busy": "2021-05-05T04:14:12.005279Z",
     "iopub.status.idle": "2021-05-05T04:14:12.129887Z",
     "shell.execute_reply": "2021-05-05T04:14:12.129336Z"
    },
    "papermill": {
     "duration": 0.182449,
     "end_time": "2021-05-05T04:14:12.130040",
     "exception": false,
     "start_time": "2021-05-05T04:14:11.947591",
     "status": "completed"
    },
    "tags": []
   },
   "outputs": [],
   "source": [
    "train_data['excerpt_lower'] = train_data['excerpt_lower'].apply(remove_special_characters)\n",
    "test_data['excerpt_lower'] = test_data['excerpt_lower'].apply(remove_special_characters)"
   ]
  },
  {
   "cell_type": "markdown",
   "id": "detected-memory",
   "metadata": {
    "papermill": {
     "duration": 0.055241,
     "end_time": "2021-05-05T04:14:12.240463",
     "exception": false,
     "start_time": "2021-05-05T04:14:12.185222",
     "status": "completed"
    },
    "tags": []
   },
   "source": [
    "### Expanding Contractions"
   ]
  },
  {
   "cell_type": "code",
   "execution_count": 22,
   "id": "assured-conclusion",
   "metadata": {
    "execution": {
     "iopub.execute_input": "2021-05-05T04:14:12.363240Z",
     "iopub.status.busy": "2021-05-05T04:14:12.362565Z",
     "iopub.status.idle": "2021-05-05T04:14:30.453507Z",
     "shell.execute_reply": "2021-05-05T04:14:30.452934Z"
    },
    "papermill": {
     "duration": 18.158025,
     "end_time": "2021-05-05T04:14:30.453659",
     "exception": false,
     "start_time": "2021-05-05T04:14:12.295634",
     "status": "completed"
    },
    "tags": []
   },
   "outputs": [
    {
     "name": "stdout",
     "output_type": "stream",
     "text": [
      "Collecting contractions\r\n",
      "  Downloading contractions-0.0.48-py2.py3-none-any.whl (6.4 kB)\r\n",
      "Collecting textsearch>=0.0.21\r\n",
      "  Downloading textsearch-0.0.21-py2.py3-none-any.whl (7.5 kB)\r\n",
      "Collecting anyascii\r\n",
      "  Downloading anyascii-0.2.0-py3-none-any.whl (283 kB)\r\n",
      "\u001b[K     |████████████████████████████████| 283 kB 1.2 MB/s \r\n",
      "\u001b[?25hCollecting pyahocorasick\r\n",
      "  Downloading pyahocorasick-1.4.2.tar.gz (321 kB)\r\n",
      "\u001b[K     |████████████████████████████████| 321 kB 5.4 MB/s \r\n",
      "\u001b[?25hBuilding wheels for collected packages: pyahocorasick\r\n",
      "  Building wheel for pyahocorasick (setup.py) ... \u001b[?25l-\b \b\\\b \b|\b \b/\b \bdone\r\n",
      "\u001b[?25h  Created wheel for pyahocorasick: filename=pyahocorasick-1.4.2-cp37-cp37m-linux_x86_64.whl size=102914 sha256=b275f0b01563368d1170323eeca69d4f9ecbff7cc38bb15bcdd914f649c77464\r\n",
      "  Stored in directory: /root/.cache/pip/wheels/25/19/a6/8f363d9939162782bb8439d886469756271abc01f76fbd790f\r\n",
      "Successfully built pyahocorasick\r\n",
      "Installing collected packages: pyahocorasick, anyascii, textsearch, contractions\r\n",
      "Successfully installed anyascii-0.2.0 contractions-0.0.48 pyahocorasick-1.4.2 textsearch-0.0.21\r\n",
      "Requirement already satisfied: textsearch in /opt/conda/lib/python3.7/site-packages (0.0.21)\r\n",
      "Requirement already satisfied: anyascii in /opt/conda/lib/python3.7/site-packages (from textsearch) (0.2.0)\r\n",
      "Requirement already satisfied: pyahocorasick in /opt/conda/lib/python3.7/site-packages (from textsearch) (1.4.2)\r\n"
     ]
    }
   ],
   "source": [
    "!pip install contractions\n",
    "!pip install textsearch"
   ]
  },
  {
   "cell_type": "code",
   "execution_count": 23,
   "id": "eligible-ecology",
   "metadata": {
    "execution": {
     "iopub.execute_input": "2021-05-05T04:14:30.584413Z",
     "iopub.status.busy": "2021-05-05T04:14:30.583732Z",
     "iopub.status.idle": "2021-05-05T04:14:30.586650Z",
     "shell.execute_reply": "2021-05-05T04:14:30.587155Z"
    },
    "papermill": {
     "duration": 0.070783,
     "end_time": "2021-05-05T04:14:30.587316",
     "exception": false,
     "start_time": "2021-05-05T04:14:30.516533",
     "status": "completed"
    },
    "tags": []
   },
   "outputs": [
    {
     "data": {
      "text/plain": [
       "\"Y'all can't expand contractions I'd think! You wouldn't be able to. How'd you do it?\""
      ]
     },
     "execution_count": 23,
     "metadata": {},
     "output_type": "execute_result"
    }
   ],
   "source": [
    "s = \"Y'all can't expand contractions I'd think! You wouldn't be able to. How'd you do it?\"\n",
    "s"
   ]
  },
  {
   "cell_type": "code",
   "execution_count": 24,
   "id": "musical-agriculture",
   "metadata": {
    "execution": {
     "iopub.execute_input": "2021-05-05T04:14:30.717070Z",
     "iopub.status.busy": "2021-05-05T04:14:30.716443Z",
     "iopub.status.idle": "2021-05-05T04:14:30.732380Z",
     "shell.execute_reply": "2021-05-05T04:14:30.732828Z"
    },
    "papermill": {
     "duration": 0.083221,
     "end_time": "2021-05-05T04:14:30.733011",
     "exception": false,
     "start_time": "2021-05-05T04:14:30.649790",
     "status": "completed"
    },
    "tags": []
   },
   "outputs": [
    {
     "data": {
      "text/plain": [
       "[(\"I'm\", 'I am'),\n",
       " (\"I'm'a\", 'I am about to'),\n",
       " (\"I'm'o\", 'I am going to'),\n",
       " (\"I've\", 'I have'),\n",
       " (\"I'll\", 'I will'),\n",
       " (\"I'll've\", 'I will have'),\n",
       " (\"I'd\", 'I would'),\n",
       " (\"I'd've\", 'I would have'),\n",
       " ('Whatcha', 'What are you'),\n",
       " (\"amn't\", 'am not')]"
      ]
     },
     "execution_count": 24,
     "metadata": {},
     "output_type": "execute_result"
    }
   ],
   "source": [
    "import contractions\n",
    "\n",
    "list(contractions.contractions_dict.items())[:10]"
   ]
  },
  {
   "cell_type": "code",
   "execution_count": 25,
   "id": "closed-swimming",
   "metadata": {
    "execution": {
     "iopub.execute_input": "2021-05-05T04:14:30.864492Z",
     "iopub.status.busy": "2021-05-05T04:14:30.863574Z",
     "iopub.status.idle": "2021-05-05T04:14:30.868190Z",
     "shell.execute_reply": "2021-05-05T04:14:30.867563Z"
    },
    "papermill": {
     "duration": 0.072577,
     "end_time": "2021-05-05T04:14:30.868326",
     "exception": false,
     "start_time": "2021-05-05T04:14:30.795749",
     "status": "completed"
    },
    "tags": []
   },
   "outputs": [
    {
     "data": {
      "text/plain": [
       "'you all can not expand contractions I would think! You would not be able to. how did you do it?'"
      ]
     },
     "execution_count": 25,
     "metadata": {},
     "output_type": "execute_result"
    }
   ],
   "source": [
    "contractions.fix(s)"
   ]
  },
  {
   "cell_type": "code",
   "execution_count": 26,
   "id": "early-generic",
   "metadata": {
    "execution": {
     "iopub.execute_input": "2021-05-05T04:14:31.016674Z",
     "iopub.status.busy": "2021-05-05T04:14:31.011808Z",
     "iopub.status.idle": "2021-05-05T04:14:31.372319Z",
     "shell.execute_reply": "2021-05-05T04:14:31.371769Z"
    },
    "papermill": {
     "duration": 0.440581,
     "end_time": "2021-05-05T04:14:31.372465",
     "exception": false,
     "start_time": "2021-05-05T04:14:30.931884",
     "status": "completed"
    },
    "tags": []
   },
   "outputs": [],
   "source": [
    "train_data['excerpt_lower'] = train_data['excerpt_lower'].apply(contractions.fix)\n",
    "test_data['excerpt_lower'] = test_data['excerpt_lower'].apply(contractions.fix)"
   ]
  },
  {
   "cell_type": "markdown",
   "id": "imported-shareware",
   "metadata": {
    "papermill": {
     "duration": 0.062842,
     "end_time": "2021-05-05T04:14:31.498757",
     "exception": false,
     "start_time": "2021-05-05T04:14:31.435915",
     "status": "completed"
    },
    "tags": []
   },
   "source": [
    "### Stemming\n",
    "Stemming is the process of reducing inflected (or sometimes derived) words to their word stem, base or root form\n",
    "\n",
    "For example, if there are two words in the corpus walks and walking, then stemming will stem the suffix to make them walk. But say in another example, we have two words console and consoling, the stemmer will remove the suffix and make them consol which is not a proper english word.\n",
    "\n",
    "There are several type of stemming algorithms available and one of the famous one is porter stemmer which is widely used. We can use nltk package for the same."
   ]
  },
  {
   "cell_type": "code",
   "execution_count": 27,
   "id": "painful-idaho",
   "metadata": {
    "execution": {
     "iopub.execute_input": "2021-05-05T04:14:31.631233Z",
     "iopub.status.busy": "2021-05-05T04:14:31.630573Z",
     "iopub.status.idle": "2021-05-05T04:14:31.634142Z",
     "shell.execute_reply": "2021-05-05T04:14:31.633531Z"
    },
    "papermill": {
     "duration": 0.072306,
     "end_time": "2021-05-05T04:14:31.634279",
     "exception": false,
     "start_time": "2021-05-05T04:14:31.561973",
     "status": "completed"
    },
    "tags": []
   },
   "outputs": [
    {
     "data": {
      "text/plain": [
       "('jump', 'jump', 'jump')"
      ]
     },
     "execution_count": 27,
     "metadata": {},
     "output_type": "execute_result"
    }
   ],
   "source": [
    "# Porter Stemmer\n",
    "from nltk.stem import PorterStemmer\n",
    "ps = PorterStemmer()\n",
    "\n",
    "ps.stem('jumping'), ps.stem('jumps'), ps.stem('jumped')"
   ]
  },
  {
   "cell_type": "code",
   "execution_count": 28,
   "id": "quality-interpretation",
   "metadata": {
    "execution": {
     "iopub.execute_input": "2021-05-05T04:14:31.767056Z",
     "iopub.status.busy": "2021-05-05T04:14:31.766433Z",
     "iopub.status.idle": "2021-05-05T04:14:31.770809Z",
     "shell.execute_reply": "2021-05-05T04:14:31.770175Z"
    },
    "papermill": {
     "duration": 0.072504,
     "end_time": "2021-05-05T04:14:31.770943",
     "exception": false,
     "start_time": "2021-05-05T04:14:31.698439",
     "status": "completed"
    },
    "tags": []
   },
   "outputs": [
    {
     "data": {
      "text/plain": [
       "'lie'"
      ]
     },
     "execution_count": 28,
     "metadata": {},
     "output_type": "execute_result"
    }
   ],
   "source": [
    "ps.stem('lying')"
   ]
  },
  {
   "cell_type": "code",
   "execution_count": 29,
   "id": "rapid-basement",
   "metadata": {
    "execution": {
     "iopub.execute_input": "2021-05-05T04:14:31.905533Z",
     "iopub.status.busy": "2021-05-05T04:14:31.904838Z",
     "iopub.status.idle": "2021-05-05T04:14:31.909403Z",
     "shell.execute_reply": "2021-05-05T04:14:31.909850Z"
    },
    "papermill": {
     "duration": 0.074352,
     "end_time": "2021-05-05T04:14:31.910032",
     "exception": false,
     "start_time": "2021-05-05T04:14:31.835680",
     "status": "completed"
    },
    "tags": []
   },
   "outputs": [
    {
     "data": {
      "text/plain": [
       "'strang'"
      ]
     },
     "execution_count": 29,
     "metadata": {},
     "output_type": "execute_result"
    }
   ],
   "source": [
    "\n",
    "ps.stem('strange')"
   ]
  },
  {
   "cell_type": "code",
   "execution_count": 30,
   "id": "forty-import",
   "metadata": {
    "execution": {
     "iopub.execute_input": "2021-05-05T04:14:32.098074Z",
     "iopub.status.busy": "2021-05-05T04:14:32.082548Z",
     "iopub.status.idle": "2021-05-05T04:14:32.882934Z",
     "shell.execute_reply": "2021-05-05T04:14:32.881853Z"
    },
    "papermill": {
     "duration": 0.907773,
     "end_time": "2021-05-05T04:14:32.883087",
     "exception": false,
     "start_time": "2021-05-05T04:14:31.975314",
     "status": "completed"
    },
    "tags": []
   },
   "outputs": [],
   "source": [
    "train_data['excerpt_lower'] = train_data['excerpt_lower'].apply(ps.stem)\n",
    "test_data['excerpt_lower'] = test_data['excerpt_lower'].apply(ps.stem)"
   ]
  },
  {
   "cell_type": "markdown",
   "id": "plain-exploration",
   "metadata": {
    "papermill": {
     "duration": 0.064957,
     "end_time": "2021-05-05T04:14:33.013018",
     "exception": false,
     "start_time": "2021-05-05T04:14:32.948061",
     "status": "completed"
    },
    "tags": []
   },
   "source": [
    "### Lemmatization\n",
    "Lemmatization is similar to stemming in reducing inflected words to their word stem but differs in the way that it makes sure the root word (also called as lemma) belongs to the language.\n",
    "\n",
    "As a result, this one is generally slower than stemming process. So depending on the speed requirement, we can choose to use either stemming or lemmatization.\n",
    "\n",
    "Let us use the WordNetLemmatizer in nltk to lemmatize our sentences"
   ]
  },
  {
   "cell_type": "code",
   "execution_count": 31,
   "id": "touched-presence",
   "metadata": {
    "execution": {
     "iopub.execute_input": "2021-05-05T04:14:33.148719Z",
     "iopub.status.busy": "2021-05-05T04:14:33.148021Z",
     "iopub.status.idle": "2021-05-05T04:14:33.150061Z",
     "shell.execute_reply": "2021-05-05T04:14:33.150571Z"
    },
    "papermill": {
     "duration": 0.072276,
     "end_time": "2021-05-05T04:14:33.150737",
     "exception": false,
     "start_time": "2021-05-05T04:14:33.078461",
     "status": "completed"
    },
    "tags": []
   },
   "outputs": [],
   "source": [
    "from nltk.stem import WordNetLemmatizer\n",
    "wnl = WordNetLemmatizer()"
   ]
  },
  {
   "cell_type": "code",
   "execution_count": 32,
   "id": "aggressive-motor",
   "metadata": {
    "execution": {
     "iopub.execute_input": "2021-05-05T04:14:33.286623Z",
     "iopub.status.busy": "2021-05-05T04:14:33.285912Z",
     "iopub.status.idle": "2021-05-05T04:14:33.292138Z",
     "shell.execute_reply": "2021-05-05T04:14:33.292640Z"
    },
    "papermill": {
     "duration": 0.076291,
     "end_time": "2021-05-05T04:14:33.292810",
     "exception": false,
     "start_time": "2021-05-05T04:14:33.216519",
     "status": "completed"
    },
    "tags": []
   },
   "outputs": [
    {
     "name": "stdout",
     "output_type": "stream",
     "text": [
      "Help on method lemmatize in module nltk.stem.wordnet:\n",
      "\n",
      "lemmatize(word, pos='n') method of nltk.stem.wordnet.WordNetLemmatizer instance\n",
      "\n"
     ]
    }
   ],
   "source": [
    "help(wnl.lemmatize)"
   ]
  },
  {
   "cell_type": "code",
   "execution_count": 33,
   "id": "floral-mining",
   "metadata": {
    "execution": {
     "iopub.execute_input": "2021-05-05T04:14:33.430452Z",
     "iopub.status.busy": "2021-05-05T04:14:33.427891Z",
     "iopub.status.idle": "2021-05-05T04:14:35.567379Z",
     "shell.execute_reply": "2021-05-05T04:14:35.566767Z"
    },
    "papermill": {
     "duration": 2.207763,
     "end_time": "2021-05-05T04:14:35.567538",
     "exception": false,
     "start_time": "2021-05-05T04:14:33.359775",
     "status": "completed"
    },
    "tags": []
   },
   "outputs": [
    {
     "name": "stdout",
     "output_type": "stream",
     "text": [
      "car\n",
      "box\n"
     ]
    }
   ],
   "source": [
    "# lemmatize nouns\n",
    "print(wnl.lemmatize('cars', 'n'))\n",
    "print(wnl.lemmatize('boxes', 'n'))"
   ]
  },
  {
   "cell_type": "code",
   "execution_count": 34,
   "id": "hawaiian-market",
   "metadata": {
    "execution": {
     "iopub.execute_input": "2021-05-05T04:14:35.705480Z",
     "iopub.status.busy": "2021-05-05T04:14:35.704854Z",
     "iopub.status.idle": "2021-05-05T04:14:35.726700Z",
     "shell.execute_reply": "2021-05-05T04:14:35.727175Z"
    },
    "papermill": {
     "duration": 0.092761,
     "end_time": "2021-05-05T04:14:35.727350",
     "exception": false,
     "start_time": "2021-05-05T04:14:35.634589",
     "status": "completed"
    },
    "tags": []
   },
   "outputs": [],
   "source": [
    "train_data['excerpt_lower'] = train_data['excerpt_lower'].apply(wnl.lemmatize)\n",
    "test_data['excerpt_lower'] = test_data['excerpt_lower'].apply(wnl.lemmatize)"
   ]
  },
  {
   "cell_type": "markdown",
   "id": "tracked-vulnerability",
   "metadata": {
    "papermill": {
     "duration": 0.065219,
     "end_time": "2021-05-05T04:14:35.858553",
     "exception": false,
     "start_time": "2021-05-05T04:14:35.793334",
     "status": "completed"
    },
    "tags": []
   },
   "source": [
    "### Tokenization\n",
    "Tokenization is to split the entire paragraph or sentence into single words."
   ]
  },
  {
   "cell_type": "code",
   "execution_count": 35,
   "id": "initial-willow",
   "metadata": {
    "execution": {
     "iopub.execute_input": "2021-05-05T04:14:35.992612Z",
     "iopub.status.busy": "2021-05-05T04:14:35.991966Z",
     "iopub.status.idle": "2021-05-05T04:14:36.010898Z",
     "shell.execute_reply": "2021-05-05T04:14:36.010365Z"
    },
    "papermill": {
     "duration": 0.086948,
     "end_time": "2021-05-05T04:14:36.011043",
     "exception": false,
     "start_time": "2021-05-05T04:14:35.924095",
     "status": "completed"
    },
    "tags": []
   },
   "outputs": [
    {
     "name": "stdout",
     "output_type": "stream",
     "text": [
      "['The', 'brown', 'foxes', 'are', 'quick', 'and', 'they', 'are', 'jumping', 'over', 'the', 'sleeping', 'lazy', 'dogs', '!']\n"
     ]
    }
   ],
   "source": [
    "s = 'The brown foxes are quick and they are jumping over the sleeping lazy dogs!'\n",
    "tokens = nltk.word_tokenize(s)\n",
    "print(tokens)"
   ]
  },
  {
   "cell_type": "code",
   "execution_count": 36,
   "id": "psychological-empire",
   "metadata": {
    "execution": {
     "iopub.execute_input": "2021-05-05T04:14:36.195844Z",
     "iopub.status.busy": "2021-05-05T04:14:36.174935Z",
     "iopub.status.idle": "2021-05-05T04:14:40.290935Z",
     "shell.execute_reply": "2021-05-05T04:14:40.290058Z"
    },
    "papermill": {
     "duration": 4.213643,
     "end_time": "2021-05-05T04:14:40.291154",
     "exception": false,
     "start_time": "2021-05-05T04:14:36.077511",
     "status": "completed"
    },
    "tags": []
   },
   "outputs": [],
   "source": [
    "train_data['excerpt_lower'] = train_data['excerpt_lower'].apply(nltk.word_tokenize)\n",
    "test_data['excerpt_lower'] = test_data['excerpt_lower'].apply(nltk.word_tokenize)"
   ]
  },
  {
   "cell_type": "markdown",
   "id": "massive-covering",
   "metadata": {
    "papermill": {
     "duration": 0.067783,
     "end_time": "2021-05-05T04:14:40.435716",
     "exception": false,
     "start_time": "2021-05-05T04:14:40.367933",
     "status": "completed"
    },
    "tags": []
   },
   "source": [
    "### Stopword Removal\n"
   ]
  },
  {
   "cell_type": "code",
   "execution_count": 37,
   "id": "serial-check",
   "metadata": {
    "execution": {
     "iopub.execute_input": "2021-05-05T04:14:40.574944Z",
     "iopub.status.busy": "2021-05-05T04:14:40.574043Z",
     "iopub.status.idle": "2021-05-05T04:14:40.596039Z",
     "shell.execute_reply": "2021-05-05T04:14:40.595369Z"
    },
    "papermill": {
     "duration": 0.093516,
     "end_time": "2021-05-05T04:14:40.596219",
     "exception": false,
     "start_time": "2021-05-05T04:14:40.502703",
     "status": "completed"
    },
    "tags": []
   },
   "outputs": [
    {
     "data": {
      "text/plain": [
       "\"i, me, my, myself, we, our, ours, ourselves, you, you're, you've, you'll, you'd, your, yours, yourself, yourselves, he, him, his, himself, she, she's, her, hers, herself, it, it's, its, itself, they, them, their, theirs, themselves, what, which, who, whom, this, that, that'll, these, those, am, is, are, was, were, be, been, being, have, has, had, having, do, does, did, doing, a, an, the, and, but, if, or, because, as, until, while, of, at, by, for, with, about, against, between, into, through, during, before, after, above, below, to, from, up, down, in, out, on, off, over, under, again, further, then, once, here, there, when, where, why, how, all, any, both, each, few, more, most, other, some, such, no, nor, not, only, own, same, so, than, too, very, s, t, can, will, just, don, don't, should, should've, now, d, ll, m, o, re, ve, y, ain, aren, aren't, couldn, couldn't, didn, didn't, doesn, doesn't, hadn, hadn't, hasn, hasn't, haven, haven't, isn, isn't, ma, mightn, mightn't, mustn, mustn't, needn, needn't, shan, shan't, shouldn, shouldn't, wasn, wasn't, weren, weren't, won, won't, wouldn, wouldn't\""
      ]
     },
     "execution_count": 37,
     "metadata": {},
     "output_type": "execute_result"
    }
   ],
   "source": [
    "from nltk.corpus import stopwords\n",
    "\", \".join(stopwords.words('english'))"
   ]
  },
  {
   "cell_type": "code",
   "execution_count": 38,
   "id": "introductory-cheese",
   "metadata": {
    "execution": {
     "iopub.execute_input": "2021-05-05T04:14:40.750953Z",
     "iopub.status.busy": "2021-05-05T04:14:40.745594Z",
     "iopub.status.idle": "2021-05-05T04:14:40.926363Z",
     "shell.execute_reply": "2021-05-05T04:14:40.925679Z"
    },
    "papermill": {
     "duration": 0.262011,
     "end_time": "2021-05-05T04:14:40.926506",
     "exception": false,
     "start_time": "2021-05-05T04:14:40.664495",
     "status": "completed"
    },
    "tags": []
   },
   "outputs": [],
   "source": [
    "STOPWORDS = set(stopwords.words('english'))\n",
    "def remove_stopwords(text):\n",
    "    \"\"\"custom function to remove the stopwords\"\"\"\n",
    "    return \" \".join([word for word in str(text).split() if word not in STOPWORDS])\n",
    "\n",
    "train_data[\"excerpt_lower\"] = train_data[\"excerpt_lower\"].apply(lambda text: remove_stopwords(text))\n",
    "test_data[\"excerpt_lower\"] = test_data[\"excerpt_lower\"].apply(lambda text: remove_stopwords(text))"
   ]
  },
  {
   "cell_type": "markdown",
   "id": "direct-bristol",
   "metadata": {
    "papermill": {
     "duration": 0.068524,
     "end_time": "2021-05-05T04:14:41.062725",
     "exception": false,
     "start_time": "2021-05-05T04:14:40.994201",
     "status": "completed"
    },
    "tags": []
   },
   "source": []
  }
 ],
 "metadata": {
  "kernelspec": {
   "display_name": "Python 3 (ipykernel)",
   "language": "python",
   "name": "python3"
  },
  "language_info": {
   "codemirror_mode": {
    "name": "ipython",
    "version": 3
   },
   "file_extension": ".py",
   "mimetype": "text/x-python",
   "name": "python",
   "nbconvert_exporter": "python",
   "pygments_lexer": "ipython3",
   "version": "3.10.2"
  },
  "papermill": {
   "default_parameters": {},
   "duration": 55.681285,
   "end_time": "2021-05-05T04:14:42.142559",
   "environment_variables": {},
   "exception": null,
   "input_path": "__notebook__.ipynb",
   "output_path": "__notebook__.ipynb",
   "parameters": {},
   "start_time": "2021-05-05T04:13:46.461274",
   "version": "2.3.3"
  }
 },
 "nbformat": 4,
 "nbformat_minor": 5
}
